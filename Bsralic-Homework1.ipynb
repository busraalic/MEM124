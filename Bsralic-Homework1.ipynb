{
 "cells": [
  {
   "cell_type": "code",
   "execution_count": 4,
   "metadata": {},
   "outputs": [
    {
     "name": "stdout",
     "output_type": "stream",
     "text": [
      "Enter multiple of x**2 : 1\n",
      "Enter multiple of x : -3\n",
      "Enter constant:  -4\n",
      "First solution is 4.0\n",
      "Second solution is -1.0\n"
     ]
    }
   ],
   "source": [
    "\n",
    "a = int(input(\"Enter multiple of x**2 : \"))\n",
    "b = int(input(\"Enter multiple of x : \"))\n",
    "c = int(input(\"Enter constant:  \"))\n",
    "\n",
    "d=b**2-(4*a*c)\n",
    "\n",
    "result_1=(-b+d**0.5)/2*a\n",
    "print('First solution is' ,result_1)\n",
    "\n",
    "result_2=(-b-d**0.5)/2*a\n",
    "print('Second solution is' ,result_2)"
   ]
  },
  {
   "cell_type": "code",
   "execution_count": null,
   "metadata": {},
   "outputs": [],
   "source": []
  },
  {
   "cell_type": "code",
   "execution_count": null,
   "metadata": {},
   "outputs": [],
   "source": []
  }
 ],
 "metadata": {
  "kernelspec": {
   "display_name": "Python 3",
   "language": "python",
   "name": "python3"
  },
  "language_info": {
   "codemirror_mode": {
    "name": "ipython",
    "version": 3
   },
   "file_extension": ".py",
   "mimetype": "text/x-python",
   "name": "python",
   "nbconvert_exporter": "python",
   "pygments_lexer": "ipython3",
   "version": "3.7.4"
  }
 },
 "nbformat": 4,
 "nbformat_minor": 2
}
