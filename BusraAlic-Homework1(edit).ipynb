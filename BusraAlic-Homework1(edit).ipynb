{
 "cells": [
  {
   "cell_type": "code",
   "execution_count": null,
   "metadata": {},
   "outputs": [],
   "source": [
    "a = int(input(\"Enter multiple of x**2 : \"))\n",
    "b = int(input(\"Enter multiple of x : \"))\n",
    "c = int(input(\"Enter constant:  \"))\n",
    "\n",
    "d=b**2-(4*a*c)\n",
    "\n",
    "result_1=(-b+d**0.5)/2*a\n",
    "\n",
    "result_2=(-b-d**0.5)/2*a\n",
    "\n",
    "print('First solution is' ,result_1)   \n",
    "print('Second solution is' ,result_2)"
   ]
  }
 ],
 "metadata": {
  "kernelspec": {
   "display_name": "Python 3",
   "language": "python",
   "name": "python3"
  },
  "language_info": {
   "codemirror_mode": {
    "name": "ipython",
    "version": 3
   },
   "file_extension": ".py",
   "mimetype": "text/x-python",
   "name": "python",
   "nbconvert_exporter": "python",
   "pygments_lexer": "ipython3",
   "version": "3.7.4"
  }
 },
 "nbformat": 4,
 "nbformat_minor": 2
}
