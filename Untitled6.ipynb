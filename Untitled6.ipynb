{
 "cells": [
  {
   "cell_type": "code",
   "execution_count": null,
   "metadata": {},
   "outputs": [],
   "source": [
    "way = int(input(\"Choose a way: \"))\n",
    "if way == 1 :\n",
    "    print('We will find hypotenuse of a triangle in the option.')\n",
    "    a = int(input(\"Enter a lenght of side: \"))\n",
    "    b = int(input(\"Enter other lenght of side: \"))\n",
    "    result=(a**2+b**2)**0.5\n",
    "    print('The hypotenuse is', result, '.')\n",
    "elif way == 2 :\n",
    "    print('We will write numbers in the option.')\n",
    "    c = int(input(\"Enter a number: \"))\n",
    "    i = 1\n",
    "    while i < c+1 :\n",
    "        print(i)\n",
    "        if i == 0:\n",
    "            break\n",
    "        i += 1\n",
    "elif way == 3 :\n",
    "    print('We will calculate arithmetic in the option.')\n",
    "    k = int(input(\"Enter first number: \"))\n",
    "    l = int(input(\"Enter second number: \"))\n",
    "    m = int(input(\"Enter third number: \"))\n",
    "    n = int(input(\"Enter fourth number: \"))\n",
    "    o = int(input(\"Enter fifth number: \"))\n",
    "    p = int(input(\"Enter sixth number: \"))\n",
    "    result_1=(k+l+m+n+o+p)/6\n",
    "    print('The solution is', result_1, '.')\n",
    "else : \n",
    "    print('You should enter a different number.')"
   ]
  },
  {
   "cell_type": "code",
   "execution_count": null,
   "metadata": {},
   "outputs": [],
   "source": []
  }
 ],
 "metadata": {
  "kernelspec": {
   "display_name": "Python 3",
   "language": "python",
   "name": "python3"
  },
  "language_info": {
   "codemirror_mode": {
    "name": "ipython",
    "version": 3
   },
   "file_extension": ".py",
   "mimetype": "text/x-python",
   "name": "python",
   "nbconvert_exporter": "python",
   "pygments_lexer": "ipython3",
   "version": "3.7.4"
  }
 },
 "nbformat": 4,
 "nbformat_minor": 2
}
